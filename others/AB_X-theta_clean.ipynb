{
  "cells": [
    {
      "cell_type": "markdown",
      "metadata": {},
      "source": [
        "# Aharonov\u2013Bohm (AB) Effect and the X\u2013\u03b8 Extension \u2014 A Clean, Testable Notebook\n",
        "\n",
        "This notebook implements a numerically stable simulation of the magnetic Aharonov\u2013Bohm (AB) phase and a minimal X\u2013\u03b8 extension modeled as a second Abelian U(1)-like sector.\n",
        "\n",
        "**Tip for VS Code users:** ensure *File \u2192 Preferences \u2192 Settings* has **Notebook \u203a Markdown: Math** enabled. Use Markdown cells (not code cells) for the formulas below."
      ]
    },
    {
      "cell_type": "markdown",
      "metadata": {},
      "source": [
        "## AB phase oracle\n",
        "\n",
        "The magnetic AB phase is\n",
        "\n",
        "$$\\Delta\\varphi_{\\rm AB} \\,=\\, \\frac{q}{\\hbar}\\oint_{\\mathcal C}\\mathbf A\\cdot d\\boldsymbol\\ell\n",
        " \\,=\\, \\frac{q}{\\hbar}\\,\\Phi \\,=\\, 2\\pi\\,\\frac{\\Phi}{\\Phi_0},\\qquad \\Phi_0\\equiv \\frac{h}{|q|}. $$\n",
        "\n",
        "**Plan**\n",
        "1. Define constants and safe numerical helpers (arc-length weighted line integral).\n",
        "2. Use a long-solenoid vector potential $\\mathbf A = \\dfrac{\\Phi}{2\\pi r}\\,\\hat{\\boldsymbol\\phi}$ for $r>R$.\n",
        "3. Build two **open** interferometer arms $P_1, P_2$; compute phase by **open-path subtraction**:\n",
        "$$\\Delta\\varphi = \\frac{q}{\\hbar}\\Big(\\int_{P_1}\\mathbf A\\cdot d\\boldsymbol\\ell - \\int_{P_2}\\mathbf A\\cdot d\\boldsymbol\\ell\\Big) \n",
        "= 2\\pi\\,\\frac{\\Phi}{\\Phi_0}. $$\n",
        "4. Run oracle, gauge-invariance, path-reversal, and resolution tests.\n",
        "5. Add an internal X\u2013\u03b8 \u201cflux\u201d contribution $\\Delta\\varphi_\\theta=2\\pi\\,\\Phi_\\theta/\\Phi_{\\theta0}$ with $\\Phi_{\\theta0}=h/g_\\theta$."
      ]
    },
    {
      "cell_type": "code",
      "execution_count": null,
      "metadata": {},
      "outputs": [],
      "source": [
        "# Section 1: Imports, constants, helpers\n",
        "import numpy as np\n",
        "import matplotlib.pyplot as plt\n",
        "from math import pi\n",
        "\n",
        "# Physical constants (SI)\n",
        "h = 6.62607015e-34         # Planck constant [J\u22c5s]\n",
        "hbar = h/(2*pi)             # reduced Planck [J\u22c5s]\n",
        "qe = -1.602176634e-19       # electron charge [C] (negative)\n",
        "\n",
        "def unitphi(x, y):\n",
        "    \"\"\"Return azimuthal unit vector \\hat{phi} in 2D plane at (x,y).\n",
        "    For r=0, return (0,0).\"\"\"\n",
        "    r = np.hypot(x, y)\n",
        "    if r == 0:\n",
        "        return np.array([0.0, 0.0])\n",
        "    # phi-hat = (-sin\u03c6, cos\u03c6) = (-y/r, x/r)\n",
        "    return np.array([-y/r, x/r])\n",
        "\n",
        "def Avec_long_solenoid(x, y, Phi=1.0, R=1.0):\n",
        "    \"\"\"Vector potential of an ideal long solenoid in Coulomb-like gauge for r>R:\n",
        "    A = (Phi / (2\u03c0 r)) \u03d5-hat; inside r<R we set A=0 for simplicity (field confined).\n",
        "    Units are generic; we only need line integrals to match flux.*\n",
        "    *As usual in AB discussions, details of gauge inside do not affect the phase.\n",
        "    \"\"\"\n",
        "    r = np.hypot(x, y)\n",
        "    if r <= R:\n",
        "        return np.array([0.0, 0.0])\n",
        "    return (Phi/(2*pi*r)) * unitphi(x, y)\n",
        "\n",
        "def line_integral_A_along_path(path_xy, Afunc):\n",
        "    \"\"\"Numerical line integral \u222b A\u00b7dl along a polyline path.\n",
        "    path_xy: array of shape (N,2)\n",
        "    Afunc:  callable (x,y)->(Ax,Ay)\n",
        "    Uses midpoint rule per segment for stability.\n",
        "    \"\"\"\n",
        "    p = np.asarray(path_xy)\n",
        "    segs = p[1:] - p[:-1]\n",
        "    mids = 0.5*(p[1:] + p[:-1])\n",
        "    vals = []\n",
        "    for (mx,my), (dx,dy) in zip(mids, segs):\n",
        "        Ax, Ay = Afunc(mx, my)\n",
        "        vals.append(Ax*dx + Ay*dy)\n",
        "    return float(np.sum(vals))\n",
        "\n",
        "def ab_phase_open_paths(P1, P2, Afunc, q=qe, hbar=hbar):\n",
        "    \"\"\"Open-path subtraction: \u0394\u03c6 = (q/\u0127) [\u222b_{P1}A\u00b7dl \u2212 \u222b_{P2}A\u00b7dl].\"\"\"\n",
        "    i1 = line_integral_A_along_path(P1, Afunc)\n",
        "    i2 = line_integral_A_along_path(P2, Afunc)\n",
        "    return (q/hbar)*(i1 - i2)\n",
        "\n",
        "def circle(center=(0,0), radius=3.0, n=2048, start_angle=0.0, stop_angle=2*np.pi):\n",
        "    cx, cy = center\n",
        "    t = np.linspace(start_angle, stop_angle, n)\n",
        "    return np.c_[cx + radius*np.cos(t), cy + radius*np.sin(t)]\n"
      ]
    },
    {
      "cell_type": "markdown",
      "metadata": {},
      "source": [
        "## Section 2: Build two open interferometer arms and test\n",
        "\n",
        "We create two paths that start far left and end far right, one going *above* the solenoid and one going *below*. The open-path subtraction reconstructs the loop integral.\n",
        "\n",
        "$$\\Phi_0 = \\frac{h}{|q|}\\,,\\qquad \\frac{\\Delta\\varphi}{2\\pi} = \\frac{\\Phi}{\\Phi_0}. $$"
      ]
    },
    {
      "cell_type": "code",
      "execution_count": null,
      "metadata": {},
      "outputs": [],
      "source": [
        "# Section 2: Construct two open paths P1 (upper) and P2 (lower)\n",
        "def make_paths(x0=-10.0, x1=10.0, yoff=2.5, nseg=2000):\n",
        "    # Piecewise linear: left->near-left, arc up or down, near-right->right\n",
        "    xs = np.linspace(x0, x1, nseg)\n",
        "    # Upper path: y = +yoff\u00b7tanh(...) for smooth detour\n",
        "    yu = yoff*np.tanh(0.5*xs)\n",
        "    # Lower path: y = -yoff\u00b7tanh(...)\n",
        "    yl = -yu\n",
        "    P1 = np.c_[xs, yu]\n",
        "    P2 = np.c_[xs, yl]\n",
        "    return P1, P2\n",
        "\n",
        "Phi_true = 5.0   # choose a flux (arbitrary units) through solenoid of radius R\n",
        "R = 1.0\n",
        "P1, P2 = make_paths(yoff=3.0)\n",
        "\n",
        "A = lambda x,y: Avec_long_solenoid(x, y, Phi=Phi_true, R=R)\n",
        "dphi = ab_phase_open_paths(P1, P2, A, q=qe, hbar=hbar)\n",
        "\n",
        "phi0 = h/abs(qe)  # flux quantum\n",
        "pred_ratio = Phi_true/phi0\n",
        "print(\"AB oracle check (units arbitrary):\")\n",
        "print(f\"  \u0394\u03c6/(2\u03c0) numeric  = {dphi/(2*np.pi):.6e}\")\n",
        "print(f\"  \u03a6/\u03a60 (expected) = {pred_ratio:.6e}\")"
      ]
    },
    {
      "cell_type": "code",
      "execution_count": null,
      "metadata": {},
      "outputs": [],
      "source": [
        "# Section 3: Plot geometry and a few field lines of A\n",
        "xx = np.linspace(-6,6,32)\n",
        "yy = np.linspace(-6,6,32)\n",
        "XX, YY = np.meshgrid(xx, yy)\n",
        "U = np.zeros_like(XX)\n",
        "V = np.zeros_like(YY)\n",
        "for i in range(XX.shape[0]):\n",
        "    for j in range(XX.shape[1]):\n",
        "        ax, ay = A(XX[i,j], YY[i,j])\n",
        "        U[i,j] = ax\n",
        "        V[i,j] = ay\n",
        "\n",
        "fig = plt.figure(figsize=(6,6))\n",
        "plt.streamplot(XX, YY, U, V, density=1.0)\n",
        "plt.plot(P1[:,0], P1[:,1])\n",
        "plt.plot(P2[:,0], P2[:,1])\n",
        "circle_theta = np.linspace(0, 2*np.pi, 300)\n",
        "plt.plot(R*np.cos(circle_theta), R*np.sin(circle_theta))\n",
        "plt.axis('equal'); plt.title('Vector potential field lines and open paths')\n",
        "plt.xlabel('x'); plt.ylabel('y')\n",
        "plt.show()"
      ]
    },
    {
      "cell_type": "markdown",
      "metadata": {},
      "source": [
        "## Section 4: Gauge and path tests\n",
        "Basic sanity:\n",
        "1. **Path reversal** flips the sign: $\\Delta\\varphi(P_2,P_1) = -\\Delta\\varphi(P_1,P_2)$.\n",
        "2. **Refinement** (more segments) leaves the result unchanged within tolerance.\n",
        "3. **Gauge shift** $\\mathbf A\\to\\mathbf A + \\nabla \\chi$ leaves $\\Delta\\varphi$ invariant."
      ]
    },
    {
      "cell_type": "code",
      "execution_count": null,
      "metadata": {},
      "outputs": [],
      "source": [
        "# Path reversal test\n",
        "dphi_rev = ab_phase_open_paths(P2, P1, A, q=qe, hbar=hbar)\n",
        "print(f\"Path reversal: dphi_rev/(2\u03c0) = {dphi_rev/(2*np.pi):.6e} (should be \u2248 -dphi/(2\u03c0))\")\n",
        "\n",
        "# Refinement test\n",
        "P1_fine, P2_fine = make_paths(yoff=3.0, nseg=8000)\n",
        "dphi_fine = ab_phase_open_paths(P1_fine, P2_fine, A, q=qe, hbar=hbar)\n",
        "print(f\"Refinement delta: |fine - coarse|/(2\u03c0) = {abs(dphi_fine-dphi)/(2*np.pi):.3e}\")\n",
        "\n",
        "# Gauge-invariance test: add a pure gradient \u2207\u03c7 to A\n",
        "def grad_chi(x,y):\n",
        "    # \u03c7(x,y) = \u03b1 x y  \u21d2 \u2207\u03c7 = (\u03b1 y, \u03b1 x)\n",
        "    alpha = 0.1\n",
        "    return np.array([alpha*y, alpha*x])\n",
        "\n",
        "A_gauged = lambda x,y: A(x,y) + grad_chi(x,y)\n",
        "dphi_g = ab_phase_open_paths(P1, P2, A_gauged, q=qe, hbar=hbar)\n",
        "print(f\"Gauge invariance: |gauged - original|/(2\u03c0) = {abs(dphi_g-dphi)/(2*np.pi):.3e}\")"
      ]
    },
    {
      "cell_type": "markdown",
      "metadata": {},
      "source": [
        "## Section 5: Minimal X\u2013\u03b8 contribution\n",
        "We model a second compact sector with an effective flux $\\Phi_\\theta$ and coupling $g_\\theta$.\n",
        "Define its \u201cflux quantum\u201d $\\Phi_{\\theta0}=h/g_\\theta$, giving a phase\n",
        "$$\\Delta\\varphi_\\theta = 2\\pi\\,\\frac{\\Phi_\\theta}{\\Phi_{\\theta0}} = 2\\pi\\,\\frac{g_\\theta\\,\\Phi_\\theta}{h}. $$\n",
        "The total phase is then $\\Delta\\varphi_{\\rm tot}=\\Delta\\varphi_{\\rm AB}+\\Delta\\varphi_\\theta$."
      ]
    },
    {
      "cell_type": "code",
      "execution_count": null,
      "metadata": {},
      "outputs": [],
      "source": [
        "# X\u2013\u03b8 sector helpers\n",
        "def phi_theta_to_phase(phi_theta, g_theta):\n",
        "    return 2*np.pi * (g_theta*phi_theta)/h\n",
        "\n",
        "def total_phase(P1, P2, Afunc, q=qe, hbar=hbar, phi_theta=0.0, g_theta=1.0):\n",
        "    return ab_phase_open_paths(P1, P2, Afunc, q=q, hbar=hbar) + phi_theta_to_phase(phi_theta, g_theta)\n",
        "\n",
        "# Example: sweep an internal flux and observe linear phase shifts\n",
        "phi_theta_list = np.linspace(0.0, 3.0, 7)  # arbitrary units\n",
        "g_theta = 1.0\n",
        "vals = [ total_phase(P1,P2,A, qe, hbar, pt, g_theta)/(2*np.pi) for pt in phi_theta_list ]\n",
        "for pt, v in zip(phi_theta_list, vals):\n",
        "    print(f\"\u03a6\u03b8={pt:.2f}  \u2192  \u0394\u03c6_tot/(2\u03c0) = {v:.6e}\")"
      ]
    },
    {
      "cell_type": "markdown",
      "metadata": {},
      "source": [
        "## Section 6: Interference fringe shift example\n",
        "For small phase differences near the screen, an idealized two-path intensity can be modeled as\n",
        "$$ I(\\Delta\\varphi) \\propto 1 + \\cos(\\Delta\\varphi). $$\n",
        "Plotting $I$ vs $\\Phi/\\Phi_0$ and vs $\\Phi_\\theta/\\Phi_{\\theta0}$ shows the independent controls."
      ]
    },
    {
      "cell_type": "code",
      "execution_count": null,
      "metadata": {},
      "outputs": [],
      "source": [
        "ratios = np.linspace(0, 3, 200)  # \u03a6/\u03a60\n",
        "dphi_ab = 2*np.pi*ratios\n",
        "I_ab = 1 + np.cos(dphi_ab)\n",
        "\n",
        "plt.figure()\n",
        "plt.plot(ratios, I_ab)\n",
        "plt.xlabel('\u03a6/\u03a60'); plt.ylabel('Relative intensity I')\n",
        "plt.title('Idealized two-path intensity vs magnetic flux ratio')\n",
        "plt.show()\n",
        "\n",
        "ratios_theta = np.linspace(0, 3, 200)  # \u03a6\u03b8/\u03a6\u03b80\n",
        "dphi_theta = 2*np.pi*ratios_theta\n",
        "I_theta = 1 + np.cos(dphi_theta)\n",
        "\n",
        "plt.figure()\n",
        "plt.plot(ratios_theta, I_theta)\n",
        "plt.xlabel('\u03a6\u03b8/\u03a6\u03b80'); plt.ylabel('Relative intensity I')\n",
        "plt.title('Idealized two-path intensity vs internal flux ratio')\n",
        "plt.show()"
      ]
    },
    {
      "cell_type": "markdown",
      "metadata": {},
      "source": [
        "## Notes on robust rendering of math in notebooks\n",
        "\n",
        "1. Use **Markdown cells** for LaTeX, not code cells.\n",
        "2. Prefer `$$ ... $$` for display math and `\\( ... \\)` for inline math.\n",
        "3. In VS Code, enable **Notebook \u203a Markdown: Math**. If formulas still fail, toggle the same setting and re-render the cell.\n",
        "4. Avoid stray backslashes in normal text (they can escape characters). Use raw strings only in code.\n",
        "5. Headings like `# Title` should not contain unbalanced math delimiters.\n",
        "6. If you require LaTeX-quality fonts in plots, set `plt.rcParams['text.usetex']=True` *only* if a LaTeX distribution is installed."
      ]
    }
  ],
  "metadata": {
    "kernelspec": {
      "display_name": "Python 3",
      "language": "python",
      "name": "python3"
    },
    "language_info": {
      "name": "python",
      "version": "3.x"
    }
  },
  "nbformat": 4,
  "nbformat_minor": 5
}