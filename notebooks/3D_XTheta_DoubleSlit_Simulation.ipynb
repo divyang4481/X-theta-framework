{
 "cells": [
  {
   "cell_type": "markdown",
   "id": "e656f949",
   "metadata": {},
   "source": []
  },
  {
   "cell_type": "markdown",
   "id": "252af220",
   "metadata": {},
   "source": [
    "## 1. Imports & basic configuration"
   ]
  },
  {
   "cell_type": "code",
   "execution_count": 1,
   "id": "f5b12519",
   "metadata": {},
   "outputs": [],
   "source": [
    "# Cell 1: imports & configuration\n",
    "import numpy as np\n",
    "import matplotlib.pyplot as plt\n",
    "import time\n",
    "\n",
    "# Smaller grid for quick tests; scale up once stable\n",
    "NX, NY, NZ = 32, 32, 32\n",
    "NTHETA     = 16\n",
    "\n",
    "# Domain extents\n",
    "X_MAX, Y_MAX, Z_MAX = 5.0, 5.0, 5.0\n",
    "\n",
    "# Time stepping (Strang-splitting)\n",
    "DT    = 1e-3\n",
    "T_END = 0.2      # start small for speed; increase later\n",
    "STEPS = int(T_END / DT)\n",
    "\n",
    "# Physical params (dimensionless units for simplicity)\n",
    "M    = 1.0       # mass in XYZ\n",
    "I    = 1.0       # \"moment of inertia\" (θ direction)\n",
    "Q    = 0.5       # coupling to A_theta\n",
    "hbar = 1.0\n"
   ]
  },
  {
   "cell_type": "markdown",
   "id": "b3faae4e",
   "metadata": {},
   "source": [
    "## 2. Grids, volume element, and potentials"
   ]
  },
  {
   "cell_type": "code",
   "execution_count": 62,
   "id": "c4b2dc19",
   "metadata": {},
   "outputs": [],
   "source": [
    "# Cell 2: grids & potentials\n",
    "x = np.linspace(-X_MAX, X_MAX, NX); dx = x[1] - x[0]\n",
    "y = np.linspace(-Y_MAX, Y_MAX, NY); dy = y[1] - y[0]\n",
    "z = np.linspace(-Z_MAX, Z_MAX, NZ); dz = z[1] - z[0]\n",
    "theta = np.linspace(-np.pi, np.pi, NTHETA, endpoint=False)\n",
    "dtheta = theta[1] - theta[0]\n",
    "\n",
    "XX, YY, ZZ, TTH = np.meshgrid(x, y, z, theta, indexing=\"ij\")\n",
    "vol = dx * dy * dz * dtheta\n",
    "\n",
    "# Harmonic trap in XYZ (symmetric)\n",
    "V = 0.5 * (XX**2 + YY**2 + ZZ**2)\n",
    "\n",
    "# Position-dependent internal connection A_theta(x)\n",
    "# (linear in x so the sign flips with x -> -x)\n",
    "A_theta = 0.2 * XX\n"
   ]
  },
  {
   "cell_type": "code",
   "execution_count": 63,
   "id": "9a9a7265",
   "metadata": {},
   "outputs": [],
   "source": [
    "# Run this right after Cell 2 (where you created XX, YY, ZZ, TTH)\n",
    "\n",
    "# A_theta should depend on (x,y,z) only. Drop θ axis:\n",
    "A_theta_3d = 0.2 * XX[..., 0]     # shape: (NX, NY, NZ)\n",
    "\n",
    "# (Optional) sanity checks\n",
    "assert A_theta_3d.shape == (NX, NY, NZ)\n"
   ]
  },
  {
   "cell_type": "markdown",
   "id": "36ab7496",
   "metadata": {},
   "source": [
    "## 3. Momentum grids and kinetic phase operators\n",
    "We keep XYZ kinetic in (kx,ky,kz) space, but we move θ kinetic (with coupling) into m-space and apply it with a θ-FFT each step.\n",
    "\n",
    "momentum grids (use a 1-D m vector, not a meshgrid)"
   ]
  },
  {
   "cell_type": "code",
   "execution_count": 64,
   "id": "c6b5ddac",
   "metadata": {},
   "outputs": [],
   "source": [
    "# Cell 3: momentum grids & kinetic operators (SAFE)\n",
    "import numpy as np\n",
    "\n",
    "# XYZ Fourier modes\n",
    "kx = 2*np.pi*np.fft.fftfreq(NX, d=dx)\n",
    "ky = 2*np.pi*np.fft.fftfreq(NY, d=dy)\n",
    "kz = 2*np.pi*np.fft.fftfreq(NZ, d=dz)\n",
    "KKX, KKY, KKZ = np.meshgrid(kx, ky, kz, indexing=\"ij\")\n",
    "\n",
    "# Pure XYZ kinetic (no theta here)\n",
    "Hk_xyz      = (hbar**2 / (2*M)) * (KKX**2 + KKY**2 + KKZ**2)\n",
    "U_K_xyz     = np.exp(-1j * DT     * Hk_xyz / hbar)\n",
    "U_K_xyz_half= np.exp(-1j * (DT/2) * Hk_xyz / hbar)\n",
    "\n",
    "# IMPORTANT: 1-D vector of theta Fourier modes.\n",
    "# Do NOT create a meshgrid named MM; keep this strictly 1-D.\n",
    "m_vec = np.fft.fftfreq(NTHETA, d=1.0/NTHETA)  # shape (NTHETA,)\n",
    "\n",
    "# Optional cleanup in case an old MM is lurking in your workspace:\n",
    "try:\n",
    "    del MM\n",
    "except NameError:\n",
    "    pass\n"
   ]
  },
  {
   "cell_type": "markdown",
   "id": "e6c56356",
   "metadata": {},
   "source": [
    "## 4. Initial wavefunction (allow m-bias to test physics)"
   ]
  },
  {
   "cell_type": "code",
   "execution_count": 65,
   "id": "28a0f2de",
   "metadata": {},
   "outputs": [],
   "source": [
    "# Cell 4: initial psi and helpers\n",
    "def normalize(psi):\n",
    "    nrm = np.sqrt(np.sum(np.abs(psi)**2) * vol)\n",
    "    return psi / nrm\n",
    "\n",
    "# m-bias: set m0 != 0 to break the symmetric m-distribution\n",
    "#m0 = 0   # try m0=+2 or -2 later to see controlled drift and sign flip\n",
    "m0 = -2   # try m0=+2 or -2 later to see controlled drift and sign flip\n",
    "\n",
    "# Spatial Gaussian\n",
    "psi_xyz = np.exp(-(XX**2 + YY**2 + ZZ**2) / (2*1.0**2))\n",
    "\n",
    "# Theta Gaussian around 0, optionally with plane-wave factor e^{i m0 theta}\n",
    "psi_th  = np.exp(-(TTH**2) / (2*0.5**2)) * np.exp(1j * m0 * TTH)\n",
    "\n",
    "psi = psi_xyz * psi_th\n",
    "psi = normalize(psi)\n",
    "\n",
    "# Precompute potential half-step\n",
    "U_V_half = np.exp(-1j * (DT/2) * V / hbar)\n"
   ]
  },
  {
   "cell_type": "markdown",
   "id": "58d537b0",
   "metadata": {},
   "source": [
    "## 5. θ-kinetic with Aθ(x): correct minimal coupling in m-space\n",
    "U\n",
    "θ\n",
    "\t​\n",
    "\n",
    "(x,m)=exp[−\n",
    "2Iℏ\n",
    "iΔt\n",
    "\t​\n",
    "\n",
    "(ℏm−QA\n",
    "θ\n",
    "\t​\n",
    "\n",
    "(x))\n",
    "2\n",
    "]\n",
    "\n",
    "We’ll apply this as a 1D FFT in θ, multiply by \n",
    "𝑈\n",
    "𝜃\n",
    "U\n",
    "θ\n",
    "\t​\n",
    "\n",
    ", then inverse FFT back."
   ]
  },
  {
   "cell_type": "code",
   "execution_count": 66,
   "id": "39b77c62",
   "metadata": {},
   "outputs": [],
   "source": [
    "# Cell 5: theta kinetic step (with A_theta) as a helper (SAFE)\n",
    "\n",
    "def theta_kinetic_step(psi, dt):\n",
    "    \"\"\"\n",
    "    Apply exp(-i dt/(2 I ħ) * (ħ m - Q A_theta(x))^2) along θ.\n",
    "    psi: complex (NX,NY,NZ,NTHETA)\n",
    "    \"\"\"\n",
    "    psi_m = np.fft.fft(psi, axis=3)             # (NX,NY,NZ,NTHETA)\n",
    "\n",
    "    # Broadcast shapes:\n",
    "    # a: (NX,NY,NZ,1) ; m: (1,1,1,NTHETA)\n",
    "    a = (Q * A_theta_3d)[..., None]\n",
    "    m = m_vec.reshape(1,1,1,-1)\n",
    "\n",
    "    U_th = np.exp(-1j * dt / (2*I*hbar) * ( (hbar*m - a)**2 ))  # (NX,NY,NZ,NTHETA)\n",
    "    psi_m *= U_th\n",
    "\n",
    "    return np.fft.ifft(psi_m, axis=3)\n",
    "\n"
   ]
  },
  {
   "cell_type": "markdown",
   "id": "cabe1b16",
   "metadata": {},
   "source": [
    "## 6. Observables and evolution kernels\n",
    "We’ll use a symmetric split: \n",
    "𝑉\n",
    "/\n",
    "2\n",
    "→\n",
    "𝑇\n",
    "𝑥\n",
    "𝑦\n",
    "𝑧\n",
    "/\n",
    "2\n",
    "→\n",
    "𝑇\n",
    "𝜃\n",
    "→\n",
    "𝑇\n",
    "𝑥\n",
    "𝑦\n",
    "𝑧\n",
    "/\n",
    "2\n",
    "→\n",
    "𝑉\n",
    "/\n",
    "2\n",
    "V/2→T\n",
    "xyz\n",
    "\t​\n",
    "\n",
    "/2→T\n",
    "θ\n",
    "\t​\n",
    "\n",
    "→T\n",
    "xyz\n",
    "\t​\n",
    "\n",
    "/2→V/2."
   ]
  },
  {
   "cell_type": "code",
   "execution_count": 67,
   "id": "9230d6fb",
   "metadata": {},
   "outputs": [],
   "source": [
    "# Cell 6: observables & evolution steps\n",
    "def exp_kin_xyz(psi, U):\n",
    "    # 3D FFT over xyz, leaving theta axis untouched\n",
    "    psi_k = np.fft.fftn(psi, axes=(0,1,2))\n",
    "    psi_k *= U[..., None]  # broadcast over theta\n",
    "    return np.fft.ifftn(psi_k, axes=(0,1,2))\n",
    "\n",
    "def expect_x(psi):\n",
    "    dens = np.abs(psi)**2\n",
    "    return np.sum(dens * XX) * vol\n",
    "\n",
    "def total_prob(psi):\n",
    "    return np.sum(np.abs(psi)**2) * vol\n",
    "\n",
    "def evolve_one_step(psi):\n",
    "    # V half\n",
    "    psi = U_V_half * psi\n",
    "\n",
    "    # T_xyz half\n",
    "    psi = exp_kin_xyz(psi, U_K_xyz_half)\n",
    "\n",
    "    # T_theta full (with A_theta(x))\n",
    "    psi = theta_kinetic_step(psi, DT)\n",
    "\n",
    "    # T_xyz half\n",
    "    psi = exp_kin_xyz(psi, U_K_xyz_half)\n",
    "\n",
    "    # V half\n",
    "    psi = U_V_half * psi\n",
    "    return psi\n"
   ]
  },
  {
   "cell_type": "markdown",
   "id": "f8cf160d",
   "metadata": {},
   "source": [
    "## 7. Run the simulation, collect ⟨x⟩ and norm"
   ]
  },
  {
   "cell_type": "code",
   "execution_count": 68,
   "id": "c6a7d90f",
   "metadata": {},
   "outputs": [
    {
     "name": "stdout",
     "output_type": "stream",
     "text": [
      "step     0/200, <x>=-7.215858e-18, norm=1.000000000000\n",
      "step    20/200, <x>=-3.999819e-05, norm=1.000000000000\n",
      "step    40/200, <x>=-1.599766e-04, norm=1.000000000000\n",
      "step    60/200, <x>=-3.598868e-04, norm=1.000000000000\n",
      "step    80/200, <x>=-6.396479e-04, norm=1.000000000000\n",
      "step   100/200, <x>=-9.991470e-04, norm=1.000000000000\n",
      "step   120/200, <x>=-1.438239e-03, norm=1.000000000000\n",
      "step   140/200, <x>=-1.956746e-03, norm=1.000000000000\n",
      "step   160/200, <x>=-2.554459e-03, norm=1.000000000000\n",
      "step   180/200, <x>=-3.231137e-03, norm=1.000000000000\n",
      "step   200/200, <x>=-3.986505e-03, norm=1.000000000000\n",
      "Finished in 45.23s\n"
     ]
    }
   ],
   "source": [
    "# Cell 7: time loop\n",
    "xs, norms = [], []\n",
    "t0 = time.time()\n",
    "\n",
    "psi_t = psi.copy()\n",
    "for step in range(STEPS+1):\n",
    "    if step % max(1, STEPS//10) == 0:\n",
    "        xs.append(expect_x(psi_t).real)\n",
    "        norms.append(total_prob(psi_t).real)\n",
    "        print(f\"step {step:5d}/{STEPS}, <x>={xs[-1]: .6e}, norm={norms[-1]:.12f}\")\n",
    "\n",
    "    if step < STEPS:\n",
    "        psi_t = evolve_one_step(psi_t)\n",
    "\n",
    "t1 = time.time()\n",
    "print(f\"Finished in {(t1-t0):.2f}s\")\n"
   ]
  },
  {
   "cell_type": "markdown",
   "id": "3044b8d6",
   "metadata": {},
   "source": [
    "## 8. Plot diagnostics"
   ]
  },
  {
   "cell_type": "code",
   "execution_count": 69,
   "id": "ff5b96bb",
   "metadata": {},
   "outputs": [
    {
     "data": {
      "image/png": "[encoded data removed]",
      "text/plain": [
       "<Figure size 1000x400 with 2 Axes>"
      ]
     },
     "metadata": {},
     "output_type": "display_data"
    }
   ],
   "source": [
    "# Cell 8: plots\n",
    "fig, ax = plt.subplots(1,2, figsize=(10,4))\n",
    "ax[0].plot(np.linspace(0,T_END,len(xs)), xs)\n",
    "ax[0].set_xlabel(\"time\")\n",
    "ax[0].set_ylabel(\"<x>\")\n",
    "ax[0].set_title(\"Center of mass in x\")\n",
    "\n",
    "ax[1].plot(np.linspace(0,T_END,len(norms)), norms)\n",
    "ax[1].set_xlabel(\"time\")\n",
    "ax[1].set_ylabel(\"norm\")\n",
    "ax[1].set_title(\"Norm conservation\")\n",
    "\n",
    "plt.tight_layout()\n",
    "plt.show()\n"
   ]
  },
  {
   "cell_type": "code",
   "execution_count": null,
   "id": "165b5003",
   "metadata": {},
   "outputs": [],
   "source": [
    "# Save diagnostic plot to Paper/figs using style.savefig\n",
    "import sys\n",
    "sys.path.append('../src/plot')\n",
    "import style\n",
    "style.savefig('../../paper/figs/3d_double_slit_diagnostics.png')"
   ]
  }
 ],
 "metadata": {
  "kernelspec": {
   "display_name": ".venvmultigpu",
   "language": "python",
   "name": "python3"
  },
  "language_info": {
   "codemirror_mode": {
    "name": "ipython",
    "version": 3
   },
   "file_extension": ".py",
   "mimetype": "text/x-python",
   "name": "python",
   "nbconvert_exporter": "python",
   "pygments_lexer": "ipython3",
   "version": "3.10.18"
  }
 },
 "nbformat": 4,
 "nbformat_minor": 5
}
